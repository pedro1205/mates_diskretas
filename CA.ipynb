{
  "metadata": {
    "kernelspec": {
      "name": "python",
      "display_name": "Python (Pyodide)",
      "language": "python"
    },
    "language_info": {
      "codemirror_mode": {
        "name": "python",
        "version": 3
      },
      "file_extension": ".py",
      "mimetype": "text/x-python",
      "name": "python",
      "nbconvert_exporter": "python",
      "pygments_lexer": "ipython3",
      "version": "3.8"
    }
  },
  "nbformat_minor": 4,
  "nbformat": 4,
  "cells": [
    {
      "cell_type": "markdown",
      "source": "# <div style=\"text-align: center\">ECC</div>\n\n",
      "metadata": {}
    },
    {
      "cell_type": "markdown",
      "source": "<div style=\"text-align: justify;\">\n    El cifrado asimétrico es una técnica criptográfica que utiliza pares de claves distintas para encriptar y desencriptar datos. Cada par de claves consiste en una clave pública, que puede ser compartida, y una clave privada, que debe mantenerse en secreto. Esto permite a cualquier persona cifrar datos utilizando la clave pública del destinatario, pero solo el destinatario a través de su clave privada podrá descifrar la información.\n    El cifrado con curvas elípticas es una forma de cifrado asimétrico que emplea las curvas elípticas para realizar operaciones criptográficas. Este método ofrece ventajas en términos de eficiencia y seguridad en comparación con otros métodos asimétricos, como RSA, ya que utiliza propiedades de las curvas elípticas para la generación de claves seguras.\n\nEl sencillo programa en la parte inferior implementa un sistema básico de cifrado utilizando curvas elípticas (ECC) y una función XOR:\n\nPrimero, se genera una clave privada aleatoria a partir de un número aleatorio comprendido entre 0 y el orden de la curva elíptica `secp192r1`. Una vez generada la clave privada, se calcula su correspondiente clave pública. Luego, se definen las funciones para cifrar (enkryptar) y descifrar (desenkryptar) mensajes utilizando XOR y la clave privada correspondiente.\n\nLa función `xor_simple(data, clave)` utiliza XOR (or exclusivo) para combinar cada byte del mensaje original con la clave generada dinámicamente. Esto permite que dicho mensaje solo pueda descifrarse utilizando la clave privada.\n\n</div>\n\n<div style=\"text-align: center;\">\n  <img src=\"https://miro.medium.com/v2/resize:fit:1400/1*_wRwisFsygokN6YQTIEq2Q.png\" alt=\"Elliptic Curve\">\n</div>\n",
      "metadata": {}
    },
    {
      "cell_type": "code",
      "source": "pip install tinyec",
      "metadata": {
        "trusted": true,
        "scrolled": true
      },
      "outputs": [],
      "execution_count": null
    },
    {
      "cell_type": "code",
      "source": "import secrets as sc\nfrom tinyec import registry\n\ncurva = registry.get_curve('secp192r1')\n\nclavePriv = sc.randbelow(curva.field.n)\nclavePub = clavePriv * curva.g\ncomClavePub = '0' + str(2 + clavePub.y % 2) + str(hex(clavePub.x)[2:])\nprint(\"Clave privada: \", hex(clavePriv)[2:])\nprint(\"Clave publica: \", comClavePub)\n\ndef xor_simple(data, clave):\n    return bytes(a ^ b for a, b in zip(data, clave))\n\ndef enkryptar(msg, pubClave):\n    cifradoClavePriv = sc.randbelow(curva.field.n)\n    claveKompartida = cifradoClavePriv * pubClave\n    claveKompartidaB = claveKompartida.x.to_bytes((claveKompartida.x.bit_length() + 7) // 8, 'big')\n    ciphertxt = xor_simple(msg, claveKompartidaB)\n    return ciphertxt, cifradoClavePriv * curva.g\n\ndef desenkryptar(cMsg, privClave):\n    (cTxt, ciphertxtClavePub) = cMsg\n    claveKompartida = privClave * ciphertxtClavePub\n    claveKompartidaB = claveKompartida.x.to_bytes((claveKompartida.x.bit_length() + 7) // 8, 'big')\n    plaintext = xor_simple(cTxt, claveKompartidaB)\n    return plaintext\n\nmensaje = b\"Hola, me gustas\"\neMsg = enkryptar(mensaje, clavePub)\nprint(\"\\nMensaje encriptado:\", eMsg[0])\n\ndeMsg = desenkryptar(eMsg, clavePriv)\nprint(\"Mensaje desencriptado:\", deMsg.decode('utf-8'))\n\ndef main():\n    while True:\n        plaintext = input(\"\\nIngrese el texto a encriptar (presione Enter para salir): \")\n        if not plaintext:\n            break\n\n        eMsg = enkryptar(plaintext.encode('utf-8'), clavePub)\n        print(\"Mensaje encriptado: \", eMsg[0])\n        deMsg = desenkryptar(eMsg, clavePriv)\n        print(\"Mensaje desencriptado: \", deMsg.decode('utf-8'))\n\n\nif __name__ == \"__main__\":\n    main()",
      "metadata": {
        "trusted": true
      },
      "outputs": [],
      "execution_count": null
    }
  ]
}